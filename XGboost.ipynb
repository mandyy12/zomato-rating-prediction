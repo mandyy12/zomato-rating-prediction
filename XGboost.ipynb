{
 "cells": [
  {
   "cell_type": "code",
   "execution_count": 1,
   "source": [
    "import pandas as pd\r\n",
    "import numpy as np\r\n",
    "df=pd.read_csv('file1.csv')\r\n",
    "df.head()"
   ],
   "outputs": [
    {
     "output_type": "execute_result",
     "data": {
      "text/html": [
       "<div>\n",
       "<style scoped>\n",
       "    .dataframe tbody tr th:only-of-type {\n",
       "        vertical-align: middle;\n",
       "    }\n",
       "\n",
       "    .dataframe tbody tr th {\n",
       "        vertical-align: top;\n",
       "    }\n",
       "\n",
       "    .dataframe thead th {\n",
       "        text-align: right;\n",
       "    }\n",
       "</style>\n",
       "<table border=\"1\" class=\"dataframe\">\n",
       "  <thead>\n",
       "    <tr style=\"text-align: right;\">\n",
       "      <th></th>\n",
       "      <th>Unnamed: 0</th>\n",
       "      <th>online_order</th>\n",
       "      <th>book_table</th>\n",
       "      <th>rate</th>\n",
       "      <th>votes</th>\n",
       "      <th>cost_for2</th>\n",
       "      <th>rest_type_Cafes</th>\n",
       "      <th>rest_type_Delivery</th>\n",
       "      <th>rest_type_Desserts</th>\n",
       "      <th>rest_type_Dine-out</th>\n",
       "      <th>...</th>\n",
       "      <th>Lavelle Road</th>\n",
       "      <th>MG Road</th>\n",
       "      <th>Malleshwaram</th>\n",
       "      <th>Marathahalli</th>\n",
       "      <th>New BEL Road</th>\n",
       "      <th>Old Airport Road</th>\n",
       "      <th>Rajajinagar</th>\n",
       "      <th>Residency Road</th>\n",
       "      <th>Sarjapur Road</th>\n",
       "      <th>Whitefield</th>\n",
       "    </tr>\n",
       "  </thead>\n",
       "  <tbody>\n",
       "    <tr>\n",
       "      <th>0</th>\n",
       "      <td>0</td>\n",
       "      <td>1</td>\n",
       "      <td>1</td>\n",
       "      <td>4.1</td>\n",
       "      <td>775</td>\n",
       "      <td>800</td>\n",
       "      <td>0</td>\n",
       "      <td>0</td>\n",
       "      <td>0</td>\n",
       "      <td>0</td>\n",
       "      <td>...</td>\n",
       "      <td>0</td>\n",
       "      <td>0</td>\n",
       "      <td>0</td>\n",
       "      <td>0</td>\n",
       "      <td>0</td>\n",
       "      <td>0</td>\n",
       "      <td>0</td>\n",
       "      <td>0</td>\n",
       "      <td>0</td>\n",
       "      <td>0</td>\n",
       "    </tr>\n",
       "    <tr>\n",
       "      <th>1</th>\n",
       "      <td>1</td>\n",
       "      <td>1</td>\n",
       "      <td>0</td>\n",
       "      <td>4.1</td>\n",
       "      <td>787</td>\n",
       "      <td>800</td>\n",
       "      <td>0</td>\n",
       "      <td>0</td>\n",
       "      <td>0</td>\n",
       "      <td>0</td>\n",
       "      <td>...</td>\n",
       "      <td>0</td>\n",
       "      <td>0</td>\n",
       "      <td>0</td>\n",
       "      <td>0</td>\n",
       "      <td>0</td>\n",
       "      <td>0</td>\n",
       "      <td>0</td>\n",
       "      <td>0</td>\n",
       "      <td>0</td>\n",
       "      <td>0</td>\n",
       "    </tr>\n",
       "    <tr>\n",
       "      <th>2</th>\n",
       "      <td>2</td>\n",
       "      <td>1</td>\n",
       "      <td>0</td>\n",
       "      <td>3.8</td>\n",
       "      <td>918</td>\n",
       "      <td>800</td>\n",
       "      <td>0</td>\n",
       "      <td>0</td>\n",
       "      <td>0</td>\n",
       "      <td>0</td>\n",
       "      <td>...</td>\n",
       "      <td>0</td>\n",
       "      <td>0</td>\n",
       "      <td>0</td>\n",
       "      <td>0</td>\n",
       "      <td>0</td>\n",
       "      <td>0</td>\n",
       "      <td>0</td>\n",
       "      <td>0</td>\n",
       "      <td>0</td>\n",
       "      <td>0</td>\n",
       "    </tr>\n",
       "    <tr>\n",
       "      <th>3</th>\n",
       "      <td>3</td>\n",
       "      <td>0</td>\n",
       "      <td>0</td>\n",
       "      <td>3.7</td>\n",
       "      <td>88</td>\n",
       "      <td>300</td>\n",
       "      <td>0</td>\n",
       "      <td>0</td>\n",
       "      <td>0</td>\n",
       "      <td>0</td>\n",
       "      <td>...</td>\n",
       "      <td>0</td>\n",
       "      <td>0</td>\n",
       "      <td>0</td>\n",
       "      <td>0</td>\n",
       "      <td>0</td>\n",
       "      <td>0</td>\n",
       "      <td>0</td>\n",
       "      <td>0</td>\n",
       "      <td>0</td>\n",
       "      <td>0</td>\n",
       "    </tr>\n",
       "    <tr>\n",
       "      <th>4</th>\n",
       "      <td>4</td>\n",
       "      <td>0</td>\n",
       "      <td>0</td>\n",
       "      <td>3.8</td>\n",
       "      <td>166</td>\n",
       "      <td>600</td>\n",
       "      <td>0</td>\n",
       "      <td>0</td>\n",
       "      <td>0</td>\n",
       "      <td>0</td>\n",
       "      <td>...</td>\n",
       "      <td>0</td>\n",
       "      <td>0</td>\n",
       "      <td>0</td>\n",
       "      <td>0</td>\n",
       "      <td>0</td>\n",
       "      <td>0</td>\n",
       "      <td>0</td>\n",
       "      <td>0</td>\n",
       "      <td>0</td>\n",
       "      <td>0</td>\n",
       "    </tr>\n",
       "  </tbody>\n",
       "</table>\n",
       "<p>5 rows × 41 columns</p>\n",
       "</div>"
      ],
      "text/plain": [
       "   Unnamed: 0  online_order  book_table  rate  votes  cost_for2  \\\n",
       "0           0             1           1   4.1    775        800   \n",
       "1           1             1           0   4.1    787        800   \n",
       "2           2             1           0   3.8    918        800   \n",
       "3           3             0           0   3.7     88        300   \n",
       "4           4             0           0   3.8    166        600   \n",
       "\n",
       "   rest_type_Cafes  rest_type_Delivery  rest_type_Desserts  \\\n",
       "0                0                   0                   0   \n",
       "1                0                   0                   0   \n",
       "2                0                   0                   0   \n",
       "3                0                   0                   0   \n",
       "4                0                   0                   0   \n",
       "\n",
       "   rest_type_Dine-out  ...  Lavelle Road  MG Road  Malleshwaram  Marathahalli  \\\n",
       "0                   0  ...             0        0             0             0   \n",
       "1                   0  ...             0        0             0             0   \n",
       "2                   0  ...             0        0             0             0   \n",
       "3                   0  ...             0        0             0             0   \n",
       "4                   0  ...             0        0             0             0   \n",
       "\n",
       "   New BEL Road  Old Airport Road  Rajajinagar  Residency Road  Sarjapur Road  \\\n",
       "0             0                 0            0               0              0   \n",
       "1             0                 0            0               0              0   \n",
       "2             0                 0            0               0              0   \n",
       "3             0                 0            0               0              0   \n",
       "4             0                 0            0               0              0   \n",
       "\n",
       "   Whitefield  \n",
       "0           0  \n",
       "1           0  \n",
       "2           0  \n",
       "3           0  \n",
       "4           0  \n",
       "\n",
       "[5 rows x 41 columns]"
      ]
     },
     "metadata": {},
     "execution_count": 1
    }
   ],
   "metadata": {}
  },
  {
   "cell_type": "code",
   "execution_count": 2,
   "source": [
    "y=pd.Series(df['rate'])\r\n",
    "df.drop(['rate'],inplace=True,axis=1)\r\n",
    "X=pd.DataFrame(df)"
   ],
   "outputs": [],
   "metadata": {}
  },
  {
   "cell_type": "code",
   "execution_count": 3,
   "source": [
    "# importing train_test_split from sklearn\r\n",
    "from sklearn.model_selection import train_test_split\r\n",
    "# splitting the data\r\n",
    "x_train, x_test, y_train, y_test = train_test_split(X, y, test_size = 0.2, random_state = 42)"
   ],
   "outputs": [],
   "metadata": {}
  },
  {
   "cell_type": "code",
   "execution_count": 4,
   "source": [
    "import xgboost as xgb\r\n",
    "from sklearn.metrics import r2_score\r\n",
    "from sklearn.metrics import mean_squared_error as mse\r\n",
    "\r\n",
    "# Instantiate an XGBoost object with hyperparameters\r\n",
    "xgb_reg = xgb.XGBRegressor(max_depth=3, n_estimators=100, n_jobs=2, booster='gbtree',random_state=42, learning_rate=0.05)\r\n",
    "\r\n",
    "# Train the model with train data sets\r\n",
    "xgb_reg.fit(x_train, y_train)\r\n",
    "\r\n",
    "y_pred = xgb_reg.predict(x_test) # Predictions"
   ],
   "outputs": [],
   "metadata": {}
  },
  {
   "cell_type": "code",
   "execution_count": 5,
   "source": [
    "from sklearn.metrics import r2_score,mean_squared_error\r\n",
    "r_square=r2_score(y_test,y_pred)\r\n",
    "mse=mean_squared_error(y_test,y_pred)\r\n",
    "print(r_square,mse)\r\n"
   ],
   "outputs": [
    {
     "output_type": "stream",
     "name": "stdout",
     "text": [
      "0.8798462418474083 0.10195415740668987\n"
     ]
    }
   ],
   "metadata": {}
  },
  {
   "cell_type": "code",
   "execution_count": 6,
   "source": [
    "parameters ={'max_depth': [3,5,7,9,15,30,50,100],\r\n",
    "     #'criterion' : ['entropy'],\r\n",
    "     \r\n",
    "     'max_features': [0.3,0.5,0.7,0.9],\r\n",
    "     'min_samples_leaf': [3,5,7,10,15],\r\n",
    "     'min_samples_split': [2,5,10],\r\n",
    "     'n_estimators': [50,100,200,400,600],\r\n",
    "     'learning_rate':[0.03,0.05,0.09,0.1,0.15]}\r\n",
    "from sklearn.model_selection import ParameterGrid\r\n",
    "param_size = ParameterGrid(parameters)\r\n",
    "len(param_size)"
   ],
   "outputs": [
    {
     "output_type": "execute_result",
     "data": {
      "text/plain": [
       "12000"
      ]
     },
     "metadata": {},
     "execution_count": 6
    }
   ],
   "metadata": {}
  },
  {
   "cell_type": "code",
   "execution_count": 7,
   "source": [
    "\r\n",
    " #Import the model we are using\r\n",
    "\r\n",
    "from sklearn.model_selection import RandomizedSearchCV\r\n",
    "from sklearn.ensemble import GradientBoostingRegressor\r\n",
    "xgb=GradientBoostingRegressor()\r\n",
    "xgb.get_params().keys() #to see available parameters with their name\r\n"
   ],
   "outputs": [
    {
     "output_type": "execute_result",
     "data": {
      "text/plain": [
       "dict_keys(['alpha', 'ccp_alpha', 'criterion', 'init', 'learning_rate', 'loss', 'max_depth', 'max_features', 'max_leaf_nodes', 'min_impurity_decrease', 'min_impurity_split', 'min_samples_leaf', 'min_samples_split', 'min_weight_fraction_leaf', 'n_estimators', 'n_iter_no_change', 'random_state', 'subsample', 'tol', 'validation_fraction', 'verbose', 'warm_start'])"
      ]
     },
     "metadata": {},
     "execution_count": 7
    }
   ],
   "metadata": {}
  },
  {
   "cell_type": "code",
   "execution_count": 12,
   "source": [
    "rand_xgb = RandomizedSearchCV(estimator = xgb, param_distributions = parameters, \r\n",
    "                          cv = 5, n_jobs = -1, verbose = 2)\r\n",
    "# Instantiate model with 1000 decision trees\r\n",
    "#rf = RandomForestRegressor(n_estimators = 1000, random_state = 42)\r\n",
    "rand_xgb.get_params()\r\n",
    "rand_xgb.fit(x_train,y_train)\r\n",
    "# Train the model on training data\r\n",
    "#rf.fit(x_train, y_train)"
   ],
   "outputs": [
    {
     "output_type": "stream",
     "name": "stdout",
     "text": [
      "Fitting 5 folds for each of 10 candidates, totalling 50 fits\n"
     ]
    },
    {
     "output_type": "execute_result",
     "data": {
      "text/plain": [
       "RandomizedSearchCV(cv=5, estimator=GradientBoostingRegressor(), n_jobs=-1,\n",
       "                   param_distributions={'learning_rate': [0.03, 0.05, 0.09, 0.1,\n",
       "                                                          0.15],\n",
       "                                        'max_depth': [3, 5, 7, 9, 15, 30, 50,\n",
       "                                                      100],\n",
       "                                        'max_features': [0.3, 0.5, 0.7, 0.9],\n",
       "                                        'min_samples_leaf': [3, 5, 7, 10, 15],\n",
       "                                        'min_samples_split': [2, 5, 10],\n",
       "                                        'n_estimators': [50, 100, 200, 400,\n",
       "                                                         600]},\n",
       "                   verbose=2)"
      ]
     },
     "metadata": {},
     "execution_count": 12
    }
   ],
   "metadata": {}
  },
  {
   "cell_type": "code",
   "execution_count": 13,
   "source": [
    "rand_xgb.get_params()"
   ],
   "outputs": [
    {
     "output_type": "execute_result",
     "data": {
      "text/plain": [
       "{'cv': 5,\n",
       " 'error_score': nan,\n",
       " 'estimator__alpha': 0.9,\n",
       " 'estimator__ccp_alpha': 0.0,\n",
       " 'estimator__criterion': 'friedman_mse',\n",
       " 'estimator__init': None,\n",
       " 'estimator__learning_rate': 0.1,\n",
       " 'estimator__loss': 'ls',\n",
       " 'estimator__max_depth': 3,\n",
       " 'estimator__max_features': None,\n",
       " 'estimator__max_leaf_nodes': None,\n",
       " 'estimator__min_impurity_decrease': 0.0,\n",
       " 'estimator__min_impurity_split': None,\n",
       " 'estimator__min_samples_leaf': 1,\n",
       " 'estimator__min_samples_split': 2,\n",
       " 'estimator__min_weight_fraction_leaf': 0.0,\n",
       " 'estimator__n_estimators': 100,\n",
       " 'estimator__n_iter_no_change': None,\n",
       " 'estimator__random_state': None,\n",
       " 'estimator__subsample': 1.0,\n",
       " 'estimator__tol': 0.0001,\n",
       " 'estimator__validation_fraction': 0.1,\n",
       " 'estimator__verbose': 0,\n",
       " 'estimator__warm_start': False,\n",
       " 'estimator': GradientBoostingRegressor(),\n",
       " 'n_iter': 10,\n",
       " 'n_jobs': -1,\n",
       " 'param_distributions': {'max_depth': [3, 5, 7, 9, 15, 30, 50, 100],\n",
       "  'max_features': [0.3, 0.5, 0.7, 0.9],\n",
       "  'min_samples_leaf': [3, 5, 7, 10, 15],\n",
       "  'min_samples_split': [2, 5, 10],\n",
       "  'n_estimators': [50, 100, 200, 400, 600],\n",
       "  'learning_rate': [0.03, 0.05, 0.09, 0.1, 0.15]},\n",
       " 'pre_dispatch': '2*n_jobs',\n",
       " 'random_state': None,\n",
       " 'refit': True,\n",
       " 'return_train_score': False,\n",
       " 'scoring': None,\n",
       " 'verbose': 2}"
      ]
     },
     "metadata": {},
     "execution_count": 13
    }
   ],
   "metadata": {}
  },
  {
   "cell_type": "code",
   "execution_count": 14,
   "source": [
    "\r\n",
    "y_pred = rand_xgb.predict(x_test)\r\n",
    "from sklearn.metrics import r2_score,mean_squared_error\r\n",
    "r_square=r2_score(y_test,y_pred)\r\n",
    "mse=mean_squared_error(y_test,y_pred)\r\n",
    "print(r_square,mse)"
   ],
   "outputs": [
    {
     "output_type": "stream",
     "name": "stdout",
     "text": [
      "0.9209705499689109 0.06705891777435011\n"
     ]
    }
   ],
   "metadata": {}
  },
  {
   "cell_type": "code",
   "execution_count": 15,
   "source": [
    "import seaborn as sns\r\n",
    "sns.displot(y_pred)"
   ],
   "outputs": [
    {
     "output_type": "execute_result",
     "data": {
      "text/plain": [
       "<seaborn.axisgrid.FacetGrid at 0x20b747d8d60>"
      ]
     },
     "metadata": {},
     "execution_count": 15
    },
    {
     "output_type": "display_data",
     "data": {
      "image/png": "[encoded data removed]",
      "text/plain": [
       "<Figure size 360x360 with 1 Axes>"
      ]
     },
     "metadata": {
      "needs_background": "light"
     }
    }
   ],
   "metadata": {}
  },
  {
   "cell_type": "code",
   "execution_count": null,
   "source": [],
   "outputs": [],
   "metadata": {}
  },
  {
   "cell_type": "code",
   "execution_count": null,
   "source": [],
   "outputs": [],
   "metadata": {}
  },
  {
   "cell_type": "code",
   "execution_count": null,
   "source": [],
   "outputs": [],
   "metadata": {}
  },
  {
   "cell_type": "code",
   "execution_count": null,
   "source": [],
   "outputs": [],
   "metadata": {}
  },
  {
   "cell_type": "code",
   "execution_count": null,
   "source": [],
   "outputs": [],
   "metadata": {}
  }
 ],
 "metadata": {
  "orig_nbformat": 4,
  "language_info": {
   "name": "python",
   "version": "3.9.6",
   "mimetype": "text/x-python",
   "codemirror_mode": {
    "name": "ipython",
    "version": 3
   },
   "pygments_lexer": "ipython3",
   "nbconvert_exporter": "python",
   "file_extension": ".py"
  },
  "kernelspec": {
   "name": "python3",
   "display_name": "Python 3.9.6  ('ratingprediction': conda)"
  },
  "interpreter": {
   "hash": "fcca275fa8e550075bd196d6dd27c5febe350966efbfc30b1a29e1edd97682d3"
  }
 },
 "nbformat": 4,
 "nbformat_minor": 2
}