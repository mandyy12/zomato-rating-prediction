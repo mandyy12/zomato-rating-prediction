{
 "cells": [
  {
   "cell_type": "code",
   "execution_count": null,
   "source": [
    "import pandas as pd\r\n",
    "import numpy as np\r\n",
    "df=pd.read_csv('file1.csv')\r\n",
    "df.head()"
   ],
   "outputs": [],
   "metadata": {}
  },
  {
   "cell_type": "code",
   "execution_count": null,
   "source": [
    "y=pd.Series(df['rate'])\r\n",
    "df.drop(['rate'],inplace=True,axis=1)\r\n",
    "X=pd.DataFrame(df)"
   ],
   "outputs": [],
   "metadata": {}
  },
  {
   "cell_type": "code",
   "execution_count": null,
   "source": [
    "# importing train_test_split from sklearn\r\n",
    "from sklearn.model_selection import train_test_split\r\n",
    "# splitting the data\r\n",
    "x_train, x_test, y_train, y_test = train_test_split(X, y, test_size = 0.2, random_state = 42)"
   ],
   "outputs": [],
   "metadata": {}
  },
  {
   "cell_type": "code",
   "execution_count": null,
   "source": [
    "parameters ={'max_depth': [3,5,10, 20, 30, 40, 50, 80, 100],\r\n",
    "     'criterion' : ['gini', 'entropy'],\r\n",
    "     'max_features': [0.3,0.5,0.7,0.9],\r\n",
    "     'min_samples_leaf': [3,7,10,15],\r\n",
    "     'min_samples_split': [2,5,10],\r\n",
    "     'n_estimators': [50,100,400,600]}\r\n",
    "from sklearn.model_selection import ParameterGrid\r\n",
    "param_size = ParameterGrid(parameters)\r\n",
    "len(param_size)"
   ],
   "outputs": [],
   "metadata": {}
  },
  {
   "cell_type": "code",
   "execution_count": null,
   "source": [
    "%%time\r\n",
    "###Randim Forest######\r\n",
    "# Import the model we are using\r\n",
    "\r\n",
    "\r\n",
    "from sklearn.ensemble import RandomForestRegressor\r\n",
    "from sklearn.model_selection import GridSearchCV\r\n",
    "rf = RandomForestRegressor()\r\n",
    "grid_rf = GridSearchCV(estimator = rf, param_grid = parameters, \r\n",
    "                          cv = 3, n_jobs = 1,verbose=2,scoring='neg_mean_squared_error')\r\n",
    "# Instantiate model with 1000 decision trees\r\n",
    "#rf = RandomForestRegressor(n_estimators = 1000, random_state = 42)\r\n",
    "#grid_rf.get_params()\r\n",
    "grid_rf.fit(x_train,y_train)\r\n",
    "# Train the model on training data\r\n",
    "#rf.fit(x_train, y_train)\r\n",
    "###########\r\n",
    "########\r\n"
   ],
   "outputs": [],
   "metadata": {}
  },
  {
   "cell_type": "code",
   "execution_count": null,
   "source": [
    "##Randim Forest######\r\n",
    "y_pred = grid_rf.predict(x_test)\r\n",
    "from sklearn.metrics import r2_score,mean_squared_error\r\n",
    "r_square=r2_score(y_test,y_pred)\r\n",
    "mse=mean_squared_error(y_test,y_pred)\r\n",
    "print(r_square,mse)"
   ],
   "outputs": [],
   "metadata": {}
  }
 ],
 "metadata": {
  "orig_nbformat": 4,
  "language_info": {
   "name": "python",
   "version": "3.9.6",
   "mimetype": "text/x-python",
   "codemirror_mode": {
    "name": "ipython",
    "version": 3
   },
   "pygments_lexer": "ipython3",
   "nbconvert_exporter": "python",
   "file_extension": ".py"
  },
  "kernelspec": {
   "name": "python3",
   "display_name": "Python 3.9.6 64-bit ('ratingprediction': conda)"
  },
  "interpreter": {
   "hash": "fcca275fa8e550075bd196d6dd27c5febe350966efbfc30b1a29e1edd97682d3"
  }
 },
 "nbformat": 4,
 "nbformat_minor": 2
}